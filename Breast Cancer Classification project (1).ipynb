{
 "cells": [
  {
   "cell_type": "markdown",
   "id": "2e83e633",
   "metadata": {},
   "source": [
    "# Breast Cancer & Wine dataset- sklearn\n",
    "Using KNN Algorithum"
   ]
  },
  {
   "cell_type": "markdown",
   "id": "3459f4ef",
   "metadata": {},
   "source": [
    "# KNN Algorithum\n",
    "\n",
    "K-Nearest Neighbour Algo, uses supervisied learing that is it trains itself first based on the previous data provided and predicts output based on the existing data(trained data), this data needs to be clssified. The input(validation data) ploted on the graph along with the training data and output is predicted based on the attributed which match with the negibhours which are ploted on the graph. Now here the number of negibhours which can give precise data are to be decided, that is the value of 'k', therefore called the k-Nearest Neighbour Algo.\n",
    "\n",
    "Python has multiple inbuild libraries which help in executing the complete end to end algorithum. Here we have used below libraries:\n",
    "1. Numpy- This is used to do complex math operations. It also supports multi-dimensional arrays and matrices\n",
    "2. Pandas- This is used for the complex array functions\n",
    "3. sklearn- We are using sklearn to do get the dataset and apply knn algo, classify the data, and creating training data for algo to learn from it\n",
    "4. matplotlib- This is used to plot grophs over the inputs and outputs received\n",
    "5. KNeighborsClassifier- This is used to classigy the data,set the value of k and execute the algorithum\n",
    "\n",
    "We have made predictions using this algorithum for 2 dataset in sklearn, one is the Breast Cancer dataset and second is the Wine dataset. We have described the step by step process of the implementations below. "
   ]
  },
  {
   "cell_type": "markdown",
   "id": "e2e6d78c",
   "metadata": {},
   "source": [
    "# Breast cancer Dataset"
   ]
  },
  {
   "cell_type": "markdown",
   "id": "9aa77257",
   "metadata": {},
   "source": [
    "Breast cancer wisconsin (diagnostic) dataset\n",
    "Data Set Characteristics:\n",
    "\n",
    "Number of Instances:\n",
    "569\n",
    "\n",
    "Number of Attributes:\n",
    "32 (ID, diagnosis, 30 real-valued input features)\n",
    "30 numeric, predictive attributes and the class\n",
    "\n",
    "Attribute Information:\n",
    "radius (mean of distances from center to points on the perimeter)\n",
    "texture (standard deviation of gray-scale values)\n",
    "perimeter\n",
    "area\n",
    "smoothness (local variation in radius lengths)\n",
    "compactness (perimeter^2 / area - 1.0)\n",
    "concavity (severity of concave portions of the contour)\n",
    "concave points (number of concave portions of the contour)\n",
    "symmetry\n",
    "fractal dimension (“coastline approximation” - 1)\n",
    "\n",
    "The mean, standard error, and “worst” or largest (mean of the three worst/largest values) of these features were computed for each image, resulting in 30 features. For instance, field 0 is Mean Radius, field 10 is Radius SE, field 20 is Worst Radius.\n",
    "\n",
    "class:\n",
    "WDBC-Malignant\n",
    "WDBC-Benign\n",
    "\n",
    "Class Distribution:\n",
    "212 - Malignant\n",
    "357 - Benign"
   ]
  },
  {
   "cell_type": "markdown",
   "id": "9a6ac193",
   "metadata": {},
   "source": [
    "Step 1. Importing datasets from sklearn\n",
    "        Importing the train_test_split function from sklearn.model_selection\n",
    "        Importing KNeighborsClassifier from sklearn.neighbors\n",
    "        Importing matplotlib.pyplot as plt\n",
    "1. Numpy- This is used to do complex math operations. It also supports multi-dimensional arrays and matrices\n",
    "2. Pandas- This is used for the complex array functions\n",
    "3. sklearn- We are using sklearn to do get the dataset and apply knn algo, classify the data, and creating training data for algo to learn from it\n",
    "4. matplotlib- This is used to plot grophs over the inputs and outputs received"
   ]
  },
  {
   "cell_type": "code",
   "execution_count": 14,
   "id": "b2c13acc",
   "metadata": {},
   "outputs": [],
   "source": [
    "from sklearn import datasets\n",
    "from sklearn.model_selection import train_test_split\n",
    "from sklearn.neighbors import KNeighborsClassifier\n",
    "import matplotlib.pyplot as plt"
   ]
  },
  {
   "cell_type": "markdown",
   "id": "2b5f466f",
   "metadata": {},
   "source": [
    "Step 2. Importing the function load_breast_cancer from sklearn.datasets and loading the data into a variable called breast_cancer_data "
   ]
  },
  {
   "cell_type": "code",
   "execution_count": 15,
   "id": "d6f26dc5",
   "metadata": {},
   "outputs": [],
   "source": [
    "breast_cancer_data = datasets.load_breast_cancer()"
   ]
  },
  {
   "cell_type": "markdown",
   "id": "d0e9fbb7",
   "metadata": {},
   "source": [
    "Step 3. Printing the first datapoint in our set"
   ]
  },
  {
   "cell_type": "code",
   "execution_count": 16,
   "id": "b828876b",
   "metadata": {},
   "outputs": [
    {
     "name": "stdout",
     "output_type": "stream",
     "text": [
      "[1.799e+01 1.038e+01 1.228e+02 1.001e+03 1.184e-01 2.776e-01 3.001e-01\n",
      " 1.471e-01 2.419e-01 7.871e-02 1.095e+00 9.053e-01 8.589e+00 1.534e+02\n",
      " 6.399e-03 4.904e-02 5.373e-02 1.587e-02 3.003e-02 6.193e-03 2.538e+01\n",
      " 1.733e+01 1.846e+02 2.019e+03 1.622e-01 6.656e-01 7.119e-01 2.654e-01\n",
      " 4.601e-01 1.189e-01]\n"
     ]
    }
   ],
   "source": [
    "print(breast_cancer_data.data[0])"
   ]
  },
  {
   "cell_type": "markdown",
   "id": "fe58bb44",
   "metadata": {},
   "source": [
    "Step 4. Printing all the features of our data set"
   ]
  },
  {
   "cell_type": "code",
   "execution_count": 17,
   "id": "6ee72f00",
   "metadata": {},
   "outputs": [
    {
     "name": "stdout",
     "output_type": "stream",
     "text": [
      "['mean radius' 'mean texture' 'mean perimeter' 'mean area'\n",
      " 'mean smoothness' 'mean compactness' 'mean concavity'\n",
      " 'mean concave points' 'mean symmetry' 'mean fractal dimension'\n",
      " 'radius error' 'texture error' 'perimeter error' 'area error'\n",
      " 'smoothness error' 'compactness error' 'concavity error'\n",
      " 'concave points error' 'symmetry error' 'fractal dimension error'\n",
      " 'worst radius' 'worst texture' 'worst perimeter' 'worst area'\n",
      " 'worst smoothness' 'worst compactness' 'worst concavity'\n",
      " 'worst concave points' 'worst symmetry' 'worst fractal dimension']\n"
     ]
    }
   ],
   "source": [
    "print(breast_cancer_data.feature_names)"
   ]
  },
  {
   "cell_type": "markdown",
   "id": "00361a17",
   "metadata": {},
   "source": [
    "Step 5. Printing the labels of every data point in our data set. We can see 0 and 1 labelled for all the data points in our set.\n",
    "        Target here is the classification of the labels"
   ]
  },
  {
   "cell_type": "code",
   "execution_count": 18,
   "id": "b17f3823",
   "metadata": {},
   "outputs": [
    {
     "name": "stdout",
     "output_type": "stream",
     "text": [
      "[0 0 0 0 0 0 0 0 0 0 0 0 0 0 0 0 0 0 0 1 1 1 0 0 0 0 0 0 0 0 0 0 0 0 0 0 0\n",
      " 1 0 0 0 0 0 0 0 0 1 0 1 1 1 1 1 0 0 1 0 0 1 1 1 1 0 1 0 0 1 1 1 1 0 1 0 0\n",
      " 1 0 1 0 0 1 1 1 0 0 1 0 0 0 1 1 1 0 1 1 0 0 1 1 1 0 0 1 1 1 1 0 1 1 0 1 1\n",
      " 1 1 1 1 1 1 0 0 0 1 0 0 1 1 1 0 0 1 0 1 0 0 1 0 0 1 1 0 1 1 0 1 1 1 1 0 1\n",
      " 1 1 1 1 1 1 1 1 0 1 1 1 1 0 0 1 0 1 1 0 0 1 1 0 0 1 1 1 1 0 1 1 0 0 0 1 0\n",
      " 1 0 1 1 1 0 1 1 0 0 1 0 0 0 0 1 0 0 0 1 0 1 0 1 1 0 1 0 0 0 0 1 1 0 0 1 1\n",
      " 1 0 1 1 1 1 1 0 0 1 1 0 1 1 0 0 1 0 1 1 1 1 0 1 1 1 1 1 0 1 0 0 0 0 0 0 0\n",
      " 0 0 0 0 0 0 0 1 1 1 1 1 1 0 1 0 1 1 0 1 1 0 1 0 0 1 1 1 1 1 1 1 1 1 1 1 1\n",
      " 1 0 1 1 0 1 0 1 1 1 1 1 1 1 1 1 1 1 1 1 1 0 1 1 1 0 1 0 1 1 1 1 0 0 0 1 1\n",
      " 1 1 0 1 0 1 0 1 1 1 0 1 1 1 1 1 1 1 0 0 0 1 1 1 1 1 1 1 1 1 1 1 0 0 1 0 0\n",
      " 0 1 0 0 1 1 1 1 1 0 1 1 1 1 1 0 1 1 1 0 1 1 0 0 1 1 1 1 1 1 0 1 1 1 1 1 1\n",
      " 1 0 1 1 1 1 1 0 1 1 0 1 1 1 1 1 1 1 1 1 1 1 1 0 1 0 0 1 0 1 1 1 1 1 0 1 1\n",
      " 0 1 0 1 1 0 1 0 1 1 1 1 1 1 1 1 0 0 1 1 1 1 1 1 0 1 1 1 1 1 1 1 1 1 1 0 1\n",
      " 1 1 1 1 1 1 0 1 0 1 1 0 1 1 1 1 1 0 0 1 0 1 0 1 1 1 1 1 0 1 1 0 1 0 1 0 0\n",
      " 1 1 1 0 1 1 1 1 1 1 1 1 1 1 1 0 1 0 0 1 1 1 1 1 1 1 1 1 1 1 1 1 1 1 1 1 1\n",
      " 1 1 1 1 1 1 1 0 0 0 0 0 0 1]\n"
     ]
    }
   ],
   "source": [
    "print(breast_cancer_data.target)"
   ]
  },
  {
   "cell_type": "markdown",
   "id": "3e250e74",
   "metadata": {},
   "source": [
    "Step 6. Printing the target names gives the tagging of each label. Target names are the categories here: malignant corresponds to 0 and benign corresponds to 1."
   ]
  },
  {
   "cell_type": "code",
   "execution_count": 19,
   "id": "897b16c9",
   "metadata": {},
   "outputs": [
    {
     "name": "stdout",
     "output_type": "stream",
     "text": [
      "['malignant' 'benign']\n"
     ]
    }
   ],
   "source": [
    "print(breast_cancer_data.target_names)"
   ]
  },
  {
   "cell_type": "markdown",
   "id": "694c8013",
   "metadata": {},
   "source": [
    "Step 7. Calling the train_test_split function. It takes several parameters:\n",
    "        The data we want to split (for us, breast_cancer_data.data)\n",
    "        The labels associated with that data (for us, breast_cancer_data.target)\n",
    "        The test_size. This is what percentage of our data we want to be in our testing set. Let’s use test_size = 0.2\n",
    "    random_state. This will ensure that every time we run our code, the data is split in the same way. This can be any number.   We used random_state = 100."
   ]
  },
  {
   "cell_type": "code",
   "execution_count": 20,
   "id": "3af5d9d8",
   "metadata": {},
   "outputs": [
    {
     "data": {
      "text/plain": [
       "[array([[1.305e+01, 1.931e+01, 8.261e+01, ..., 1.111e-02, 2.439e-01,\n",
       "         6.289e-02],\n",
       "        [1.288e+01, 2.892e+01, 8.250e+01, ..., 6.493e-02, 2.372e-01,\n",
       "         7.242e-02],\n",
       "        [1.575e+01, 1.922e+01, 1.071e+02, ..., 2.135e-01, 4.245e-01,\n",
       "         1.050e-01],\n",
       "        ...,\n",
       "        [1.166e+01, 1.707e+01, 7.370e+01, ..., 4.262e-02, 2.731e-01,\n",
       "         6.825e-02],\n",
       "        [1.286e+01, 1.800e+01, 8.319e+01, ..., 7.926e-02, 2.779e-01,\n",
       "         7.918e-02],\n",
       "        [9.295e+00, 1.390e+01, 5.996e+01, ..., 7.262e-02, 3.681e-01,\n",
       "         8.982e-02]]),\n",
       " array([[1.791e+01, 2.102e+01, 1.244e+02, ..., 1.964e-01, 3.245e-01,\n",
       "         1.198e-01],\n",
       "        [1.434e+01, 1.347e+01, 9.251e+01, ..., 1.087e-01, 3.062e-01,\n",
       "         6.072e-02],\n",
       "        [2.016e+01, 1.966e+01, 1.311e+02, ..., 1.425e-01, 3.055e-01,\n",
       "         5.933e-02],\n",
       "        ...,\n",
       "        [1.303e+01, 1.842e+01, 8.261e+01, ..., 5.013e-02, 1.987e-01,\n",
       "         6.169e-02],\n",
       "        [1.825e+01, 1.998e+01, 1.196e+02, ..., 1.932e-01, 3.063e-01,\n",
       "         8.368e-02],\n",
       "        [9.847e+00, 1.568e+01, 6.300e+01, ..., 6.528e-02, 2.502e-01,\n",
       "         9.209e-02]]),\n",
       " array([1, 1, 0, 1, 1, 1, 0, 1, 1, 0, 1, 1, 1, 1, 1, 1, 1, 1, 0, 1, 1, 0,\n",
       "        1, 1, 1, 1, 0, 0, 1, 1, 1, 1, 0, 0, 0, 1, 0, 0, 0, 0, 1, 0, 0, 0,\n",
       "        1, 1, 1, 1, 1, 1, 1, 1, 0, 0, 1, 0, 1, 0, 0, 1, 1, 1, 1, 1, 1, 1,\n",
       "        1, 1, 1, 1, 1, 0, 1, 1, 0, 1, 1, 0, 1, 1, 1, 0, 0, 1, 1, 1, 1, 0,\n",
       "        1, 1, 0, 0, 1, 0, 0, 0, 1, 1, 1, 0, 1, 1, 0, 0, 0, 1, 1, 1, 0, 1,\n",
       "        1, 1, 1, 1, 1, 1, 1, 0, 0, 0, 1, 1, 0, 0, 1, 1, 1, 1, 0, 0, 0, 0,\n",
       "        1, 0, 0, 1, 1, 0, 0, 0, 1, 1, 1, 0, 1, 0, 1, 1, 1, 1, 1, 1, 1, 1,\n",
       "        1, 0, 1, 1, 0, 0, 1, 1, 1, 1, 1, 1, 1, 1, 0, 1, 1, 1, 0, 1, 1, 1,\n",
       "        1, 0, 0, 0, 1, 1, 0, 1, 0, 0, 1, 1, 0, 0, 1, 1, 1, 0, 1, 1, 1, 1,\n",
       "        0, 1, 1, 1, 0, 1, 1, 1, 1, 1, 1, 1, 0, 1, 1, 0, 1, 1, 1, 1, 1, 1,\n",
       "        1, 1, 0, 1, 1, 1, 0, 0, 0, 0, 1, 1, 1, 1, 1, 0, 0, 1, 0, 1, 1, 0,\n",
       "        1, 1, 1, 0, 1, 1, 1, 1, 1, 1, 1, 0, 1, 0, 1, 0, 1, 1, 1, 1, 1, 0,\n",
       "        1, 1, 1, 1, 0, 1, 1, 1, 0, 0, 1, 0, 1, 1, 1, 0, 1, 0, 1, 1, 1, 0,\n",
       "        0, 1, 0, 1, 1, 0, 0, 1, 1, 1, 1, 1, 1, 1, 1, 0, 1, 0, 0, 1, 0, 1,\n",
       "        0, 0, 1, 0, 0, 0, 0, 1, 0, 1, 1, 0, 1, 0, 1, 1, 0, 1, 0, 1, 1, 1,\n",
       "        0, 1, 0, 1, 0, 0, 1, 0, 1, 1, 1, 1, 0, 0, 1, 1, 1, 1, 0, 1, 0, 1,\n",
       "        1, 1, 1, 1, 1, 1, 1, 0, 1, 0, 1, 1, 0, 1, 1, 0, 0, 0, 0, 1, 1, 1,\n",
       "        1, 0, 0, 1, 1, 0, 1, 0, 0, 1, 1, 1, 1, 1, 1, 0, 0, 1, 0, 1, 1, 1,\n",
       "        0, 0, 0, 0, 0, 1, 1, 1, 0, 1, 0, 0, 1, 0, 1, 0, 0, 1, 1, 1, 1, 0,\n",
       "        0, 0, 1, 1, 1, 1, 0, 0, 1, 0, 1, 0, 0, 1, 1, 1, 0, 1, 0, 1, 1, 0,\n",
       "        0, 0, 1, 1, 0, 1, 1, 1, 1, 0, 1, 0, 1, 1, 1]),\n",
       " array([0, 1, 0, 1, 1, 1, 0, 0, 0, 1, 1, 0, 0, 0, 1, 0, 0, 1, 1, 1, 1, 1,\n",
       "        0, 0, 0, 0, 1, 1, 1, 1, 1, 1, 1, 0, 0, 1, 1, 1, 1, 0, 0, 1, 1, 0,\n",
       "        1, 0, 1, 1, 1, 1, 0, 1, 1, 0, 1, 1, 1, 0, 1, 1, 0, 0, 1, 1, 0, 1,\n",
       "        0, 0, 1, 0, 0, 1, 0, 0, 1, 1, 1, 0, 0, 1, 1, 0, 0, 0, 1, 0, 0, 1,\n",
       "        0, 1, 1, 1, 1, 0, 1, 0, 0, 1, 0, 0, 0, 0, 1, 1, 1, 1, 1, 1, 1, 1,\n",
       "        0, 1, 0, 1])]"
      ]
     },
     "execution_count": 20,
     "metadata": {},
     "output_type": "execute_result"
    }
   ],
   "source": [
    "train_test_split(breast_cancer_data.data, breast_cancer_data.target, test_size = 0.2, random_state = 100)"
   ]
  },
  {
   "cell_type": "markdown",
   "id": "5e34b7ae",
   "metadata": {},
   "source": [
    "Step 8. train_test_split returns four values in the following order:\n",
    "    The training set\n",
    "    The validation set\n",
    "    The training labels\n",
    "    The validation labels\n",
    "We are storing those values in variables named training_data, validation_data, training_labels, and validation_labels."
   ]
  },
  {
   "cell_type": "code",
   "execution_count": 21,
   "id": "8282196f",
   "metadata": {},
   "outputs": [],
   "source": [
    "training_data, validation_data, training_labels, validation_labels = train_test_split(breast_cancer_data.data, breast_cancer_data.target, test_size = 0.2, random_state = 100)"
   ]
  },
  {
   "cell_type": "markdown",
   "id": "5c0a941b",
   "metadata": {},
   "source": [
    "Step 9. Printing out the length of training_data and training_labels to check that the data we stored in above cell worked correctly. Output should be the same size - one label for every piece of data."
   ]
  },
  {
   "cell_type": "code",
   "execution_count": 22,
   "id": "5011a953",
   "metadata": {},
   "outputs": [
    {
     "name": "stdout",
     "output_type": "stream",
     "text": [
      "455\n",
      "455\n"
     ]
    }
   ],
   "source": [
    "print(len(training_data))\n",
    "print(len(training_labels))"
   ]
  },
  {
   "cell_type": "markdown",
   "id": "bbd8f1c9",
   "metadata": {},
   "source": [
    "Step 10. Creating a KNeighborsClassifier where n_neighbors = 3. Naming the classifier as classifier"
   ]
  },
  {
   "cell_type": "code",
   "execution_count": 23,
   "id": "e483fc36",
   "metadata": {},
   "outputs": [],
   "source": [
    "classifier = KNeighborsClassifier(n_neighbors = 3)"
   ]
  },
  {
   "cell_type": "markdown",
   "id": "a05ede3e",
   "metadata": {},
   "source": [
    "Step 11. Training the classifier using the fit function. This function takes two parameters: the training set and the training labels."
   ]
  },
  {
   "cell_type": "code",
   "execution_count": 24,
   "id": "cd8da4a6",
   "metadata": {},
   "outputs": [
    {
     "data": {
      "text/plain": [
       "KNeighborsClassifier(n_neighbors=3)"
      ]
     },
     "execution_count": 24,
     "metadata": {},
     "output_type": "execute_result"
    }
   ],
   "source": [
    "classifier.fit(training_data, training_labels)"
   ]
  },
  {
   "cell_type": "markdown",
   "id": "40410b9f",
   "metadata": {},
   "source": [
    "Step 12. Now that the classifier has been trained, let’s find how accurate it is on the validation set. Calling the classifier’s score function. score takes two parameters: the validation set and the validation labels. Printing the result.\n",
    "         It shows that if we have 3 neighbors accuracy is around 94%."
   ]
  },
  {
   "cell_type": "code",
   "execution_count": 25,
   "id": "385fd320",
   "metadata": {},
   "outputs": [
    {
     "name": "stdout",
     "output_type": "stream",
     "text": [
      "0.9473684210526315\n"
     ]
    }
   ],
   "source": [
    "print(classifier.score(validation_data, validation_labels))"
   ]
  },
  {
   "cell_type": "markdown",
   "id": "9f55749a",
   "metadata": {},
   "source": [
    "Step 13. In above cell we have got output for k = 3 but to find a better k which is more accurate, we will use a for loop to get 100 different validation accuracies. \n",
    "         We now have the validation accuracy for 100 different ks."
   ]
  },
  {
   "cell_type": "code",
   "execution_count": 26,
   "id": "055a5bd8",
   "metadata": {},
   "outputs": [
    {
     "name": "stdout",
     "output_type": "stream",
     "text": [
      "0.9298245614035088\n",
      "0.9385964912280702\n",
      "0.9473684210526315\n",
      "0.9473684210526315\n",
      "0.9473684210526315\n",
      "0.9473684210526315\n",
      "0.9473684210526315\n",
      "0.9473684210526315\n",
      "0.956140350877193\n",
      "0.956140350877193\n",
      "0.956140350877193\n",
      "0.956140350877193\n",
      "0.956140350877193\n",
      "0.956140350877193\n",
      "0.956140350877193\n",
      "0.956140350877193\n",
      "0.956140350877193\n",
      "0.956140350877193\n",
      "0.956140350877193\n",
      "0.956140350877193\n",
      "0.956140350877193\n",
      "0.956140350877193\n",
      "0.9649122807017544\n",
      "0.9649122807017544\n",
      "0.956140350877193\n",
      "0.956140350877193\n",
      "0.956140350877193\n",
      "0.956140350877193\n",
      "0.9473684210526315\n",
      "0.9473684210526315\n",
      "0.9473684210526315\n",
      "0.9473684210526315\n",
      "0.9473684210526315\n",
      "0.9473684210526315\n",
      "0.9473684210526315\n",
      "0.9473684210526315\n",
      "0.956140350877193\n",
      "0.956140350877193\n",
      "0.956140350877193\n",
      "0.956140350877193\n",
      "0.956140350877193\n",
      "0.956140350877193\n",
      "0.956140350877193\n",
      "0.9473684210526315\n",
      "0.956140350877193\n",
      "0.9473684210526315\n",
      "0.956140350877193\n",
      "0.956140350877193\n",
      "0.956140350877193\n",
      "0.956140350877193\n",
      "0.9473684210526315\n",
      "0.9473684210526315\n",
      "0.9473684210526315\n",
      "0.956140350877193\n",
      "0.956140350877193\n",
      "0.9649122807017544\n",
      "0.9473684210526315\n",
      "0.9473684210526315\n",
      "0.9385964912280702\n",
      "0.9298245614035088\n",
      "0.9298245614035088\n",
      "0.9385964912280702\n",
      "0.9473684210526315\n",
      "0.9385964912280702\n",
      "0.9385964912280702\n",
      "0.9385964912280702\n",
      "0.9385964912280702\n",
      "0.9385964912280702\n",
      "0.9385964912280702\n",
      "0.9385964912280702\n",
      "0.9385964912280702\n",
      "0.9385964912280702\n",
      "0.9385964912280702\n",
      "0.9385964912280702\n",
      "0.9385964912280702\n",
      "0.9385964912280702\n",
      "0.9298245614035088\n",
      "0.9298245614035088\n",
      "0.9298245614035088\n",
      "0.9298245614035088\n",
      "0.9210526315789473\n",
      "0.9298245614035088\n",
      "0.9210526315789473\n",
      "0.9385964912280702\n",
      "0.9298245614035088\n",
      "0.9385964912280702\n",
      "0.9385964912280702\n",
      "0.9385964912280702\n",
      "0.9298245614035088\n",
      "0.9298245614035088\n",
      "0.9210526315789473\n",
      "0.9385964912280702\n",
      "0.9210526315789473\n",
      "0.9298245614035088\n",
      "0.9298245614035088\n",
      "0.9385964912280702\n",
      "0.9298245614035088\n",
      "0.9385964912280702\n",
      "0.9298245614035088\n",
      "0.9298245614035088\n"
     ]
    }
   ],
   "source": [
    "for k in range(1, 101):\n",
    "  classifier = KNeighborsClassifier(k)\n",
    "  classifier.fit(training_data, training_labels)\n",
    "  print(classifier.score(validation_data, validation_labels))"
   ]
  },
  {
   "cell_type": "markdown",
   "id": "79deac9e",
   "metadata": {},
   "source": [
    "Step 14. and Step 15. We have the output of 100 different validation accuracies, now we will make a graph\n",
    "    The x-axis will be the values of k that we tested. This should be a list of numbers between 1 and 100. We are using the range function to make this list. Storing it in a variable named k_list.\n",
    "    The y-axis of our graph will be the validation accuracy. Outside of the for loop, we have created an empty list named accuracies. Inside the for loop, we have appended each accuracy accuracies."
   ]
  },
  {
   "cell_type": "code",
   "execution_count": 27,
   "id": "83a03185",
   "metadata": {},
   "outputs": [],
   "source": [
    "k_list = range(1, 101)\n",
    "accuracies = []\n",
    "for k in range(1, 101):\n",
    "  classifier = KNeighborsClassifier(k)\n",
    "  classifier.fit(training_data, training_labels)\n",
    "  accuracies.append(classifier.score(validation_data, validation_labels))\n"
   ]
  },
  {
   "cell_type": "markdown",
   "id": "6f2afae5",
   "metadata": {},
   "source": [
    "Step 16. We are plotting and showing the graph below"
   ]
  },
  {
   "cell_type": "code",
   "execution_count": 28,
   "id": "b200a8f0",
   "metadata": {},
   "outputs": [
    {
     "data": {
      "image/png": "[encoded data removed]",
      "text/plain": [
       "<Figure size 432x288 with 1 Axes>"
      ]
     },
     "metadata": {
      "needs_background": "light"
     },
     "output_type": "display_data"
    }
   ],
   "source": [
    "plt.plot(k_list, accuracies)\n",
    "plt.show()"
   ]
  },
  {
   "cell_type": "markdown",
   "id": "e356b270",
   "metadata": {},
   "source": [
    "Step 17. Adding labels:\n",
    "        Setting the x-axis label to \"k\" using plt.xlabel()\n",
    "        Setting the y-axis label to \"Validation Accuracy\"\n",
    "        Setting the title to \"Breast Cancer Classifier Accuracy\""
   ]
  },
  {
   "cell_type": "code",
   "execution_count": 29,
   "id": "75fa3fd2",
   "metadata": {},
   "outputs": [
    {
     "data": {
      "image/png": "[encoded data removed]",
      "text/plain": [
       "<Figure size 432x288 with 1 Axes>"
      ]
     },
     "metadata": {
      "needs_background": "light"
     },
     "output_type": "display_data"
    }
   ],
   "source": [
    "plt.xlabel(\"k\")\n",
    "plt.ylabel(\"Validation Accuracy\")\n",
    "plt.title(\"Breast Cancer Classifier Accuracy\")\n",
    "\n",
    "plt.plot(k_list, accuracies)\n",
    "plt.show()\n"
   ]
  },
  {
   "cell_type": "markdown",
   "id": "21e47a56",
   "metadata": {},
   "source": [
    "From the graph, we can say that at 0 value of k accuracy is 93%, wherease accuracy is highest i.e above 96% when k is\n",
    "ranging between 25 to 30. However, if neighbors are increasing more i.e, when value of k is ranging from 80 to 100,\n",
    "accuracy has reduced to 93%. This shows overfitting, because we have trained our model with lots of data."
   ]
  },
  {
   "cell_type": "markdown",
   "id": "3f7f57f7",
   "metadata": {},
   "source": [
    "Step 18. We have changed the random_state = 80, and have plot the graph.\n",
    "         In graph we can see that k is increasing initially and is highly accurate between 0 to 10 values of k and then is decreasing gradually as k is increasing."
   ]
  },
  {
   "cell_type": "code",
   "execution_count": 30,
   "id": "e0924a66",
   "metadata": {},
   "outputs": [
    {
     "data": {
      "image/png": "[encoded data removed]",
      "text/plain": [
       "<Figure size 432x288 with 1 Axes>"
      ]
     },
     "metadata": {
      "needs_background": "light"
     },
     "output_type": "display_data"
    }
   ],
   "source": [
    "train_test_split(breast_cancer_data.data, breast_cancer_data.target, test_size = 0.2, random_state = 80)\n",
    "training_data, validation_data, training_labels, validation_labels = train_test_split(breast_cancer_data.data, breast_cancer_data.target, test_size = 0.2, random_state = 80)\n",
    "\n",
    "classifier.fit(training_data, training_labels)\n",
    "\n",
    "k_list = range(1, 101)\n",
    "accuracies = []\n",
    "for k in range(1, 101):\n",
    "  classifier = KNeighborsClassifier(k)\n",
    "  classifier.fit(training_data, training_labels)\n",
    "  accuracies.append(classifier.score(validation_data, validation_labels))\n",
    "\n",
    "plt.xlabel(\"k\")\n",
    "plt.ylabel(\"Validation Accuracy\")\n",
    "plt.title(\"Breast Cancer Classifier Accuracy\")\n",
    "\n",
    "plt.plot(k_list, accuracies)\n",
    "plt.show()\n",
    "\n",
    "\n"
   ]
  },
  {
   "cell_type": "markdown",
   "id": "11379dfb",
   "metadata": {},
   "source": [
    "# Wine dataset"
   ]
  },
  {
   "cell_type": "markdown",
   "id": "99a6761f",
   "metadata": {},
   "source": [
    "Below is the example of Wine dataset from sklearn\n",
    "\n",
    "The data is the results of a chemical analysis of wines grown in the same region in Italy by three different cultivators. There are thirteen different measurements taken for different constituents found in the three types of wine.\n",
    "\n",
    "Number of Attributes: 13 numeric, predictive attributes and the class\n",
    "\n",
    "Attribute Information:Alcohol, Malic acid, Ash, Alcalinity of ash, Magnesium, Total phenols, Flavanoids, Nonflavanoid phenols, Proanthocyanins, Color intensity, Hue, OD280/OD315 of diluted wines,Proline"
   ]
  },
  {
   "cell_type": "markdown",
   "id": "99985127",
   "metadata": {},
   "source": [
    "Step 1: We start by importing the libraries which we will be using\n",
    "1. Numpy- This is used to do complex math operations. It also supports multi-dimensional arrays and matrices\n",
    "2. Pandas- This is used for the complex array functions\n",
    "3. sklearn- We are using sklearn to do get the dataset and apply knn algo, classify the data, and creating training data for algo to learn from it\n",
    "4. matplotlib- This is used to plot grophs over the inputs and outputs received"
   ]
  },
  {
   "cell_type": "code",
   "execution_count": 31,
   "id": "913e7537",
   "metadata": {},
   "outputs": [],
   "source": [
    "import numpy as np\n",
    "import pandas as pd\n",
    "\n",
    "import matplotlib.pyplot as plt\n",
    "\n",
    "from sklearn.datasets import make_blobs\n",
    "from sklearn.neighbors import KNeighborsClassifier\n",
    "from sklearn.model_selection import train_test_split\n"
   ]
  },
  {
   "cell_type": "markdown",
   "id": "31acdc6d",
   "metadata": {},
   "source": [
    "Step 2: sklearn has many datasets one of which is the wine dataset which gives the information of the wines and its contents. We now load the data into the wine variable as list"
   ]
  },
  {
   "cell_type": "code",
   "execution_count": 32,
   "id": "a9cb3836",
   "metadata": {},
   "outputs": [],
   "source": [
    "from sklearn import datasets\n",
    "\n",
    "wine = datasets.load_wine()"
   ]
  },
  {
   "cell_type": "markdown",
   "id": "4fd2b05e",
   "metadata": {},
   "source": [
    "Step 3: The below gives the data present at the first datapoint in the wine dataset"
   ]
  },
  {
   "cell_type": "code",
   "execution_count": 33,
   "id": "b3202ef8",
   "metadata": {},
   "outputs": [
    {
     "name": "stdout",
     "output_type": "stream",
     "text": [
      "[1.423e+01 1.710e+00 2.430e+00 1.560e+01 1.270e+02 2.800e+00 3.060e+00\n",
      " 2.800e-01 2.290e+00 5.640e+00 1.040e+00 3.920e+00 1.065e+03]\n"
     ]
    }
   ],
   "source": [
    "print(wine.data[0])"
   ]
  },
  {
   "cell_type": "markdown",
   "id": "6f5f45e7",
   "metadata": {},
   "source": [
    "Step 4: And the datapoints have below featuers, here these are the contents of the wine "
   ]
  },
  {
   "cell_type": "code",
   "execution_count": 34,
   "id": "537a5aa4",
   "metadata": {},
   "outputs": [
    {
     "name": "stdout",
     "output_type": "stream",
     "text": [
      "['alcohol', 'malic_acid', 'ash', 'alcalinity_of_ash', 'magnesium', 'total_phenols', 'flavanoids', 'nonflavanoid_phenols', 'proanthocyanins', 'color_intensity', 'hue', 'od280/od315_of_diluted_wines', 'proline']\n"
     ]
    }
   ],
   "source": [
    "print(wine.feature_names)"
   ]
  },
  {
   "cell_type": "markdown",
   "id": "8296845c",
   "metadata": {},
   "source": [
    "Step 5: Printing the labels of every data point in our data set. We can see 0 and 1 labelled for all the data points in our set. Target here is the classification of the labels"
   ]
  },
  {
   "cell_type": "code",
   "execution_count": 35,
   "id": "d367593a",
   "metadata": {},
   "outputs": [
    {
     "name": "stdout",
     "output_type": "stream",
     "text": [
      "[0 0 0 0 0 0 0 0 0 0 0 0 0 0 0 0 0 0 0 0 0 0 0 0 0 0 0 0 0 0 0 0 0 0 0 0 0\n",
      " 0 0 0 0 0 0 0 0 0 0 0 0 0 0 0 0 0 0 0 0 0 0 1 1 1 1 1 1 1 1 1 1 1 1 1 1 1\n",
      " 1 1 1 1 1 1 1 1 1 1 1 1 1 1 1 1 1 1 1 1 1 1 1 1 1 1 1 1 1 1 1 1 1 1 1 1 1\n",
      " 1 1 1 1 1 1 1 1 1 1 1 1 1 1 1 1 1 1 1 2 2 2 2 2 2 2 2 2 2 2 2 2 2 2 2 2 2\n",
      " 2 2 2 2 2 2 2 2 2 2 2 2 2 2 2 2 2 2 2 2 2 2 2 2 2 2 2 2 2 2]\n"
     ]
    }
   ],
   "source": [
    "print(wine.target)"
   ]
  },
  {
   "cell_type": "markdown",
   "id": "4ebf8901",
   "metadata": {},
   "source": [
    "Step 6. Printing the target names gives the tagging of each label. Target names are the categories here as classes, with class distribution class_0 (59), class_1 (71), class_2 (48)"
   ]
  },
  {
   "cell_type": "code",
   "execution_count": 36,
   "id": "46f51590",
   "metadata": {},
   "outputs": [
    {
     "name": "stdout",
     "output_type": "stream",
     "text": [
      "['class_0' 'class_1' 'class_2']\n"
     ]
    }
   ],
   "source": [
    "print(wine.target_names)"
   ]
  },
  {
   "cell_type": "markdown",
   "id": "9f760fc6",
   "metadata": {},
   "source": [
    "Step 7: For now we are keeping the test size same as 0.5 for wine dataset\n",
    " Calling the train_test_split function. It takes several parameters: The data we want to split (for us, breast_cancer_data.data) The labels associated with that data (for us, breast_cancer_data.target) The test_size. This is what percentage of our data we want to be in our testing set. Let’s use test_size = 0.5 random_state. This will ensure that every time we run our code, the data is split in the same way. This can be any number. We used random_state = 100"
   ]
  },
  {
   "cell_type": "code",
   "execution_count": 37,
   "id": "dd5603c1",
   "metadata": {},
   "outputs": [
    {
     "data": {
      "text/plain": [
       "[array([[1.236e+01, 3.830e+00, 2.380e+00, ..., 5.600e-01, 1.580e+00,\n",
       "         5.200e+02],\n",
       "        [1.376e+01, 1.530e+00, 2.700e+00, ..., 1.250e+00, 3.000e+00,\n",
       "         1.235e+03],\n",
       "        [1.176e+01, 2.680e+00, 2.920e+00, ..., 1.230e+00, 2.500e+00,\n",
       "         6.070e+02],\n",
       "        ...,\n",
       "        [1.237e+01, 1.170e+00, 1.920e+00, ..., 1.120e+00, 3.480e+00,\n",
       "         5.100e+02],\n",
       "        [1.350e+01, 1.810e+00, 2.610e+00, ..., 1.120e+00, 3.820e+00,\n",
       "         8.450e+02],\n",
       "        [1.483e+01, 1.640e+00, 2.170e+00, ..., 1.080e+00, 2.850e+00,\n",
       "         1.045e+03]]),\n",
       " array([[1.164e+01, 2.060e+00, 2.460e+00, ..., 1.000e+00, 2.750e+00,\n",
       "         6.800e+02],\n",
       "        [1.348e+01, 1.670e+00, 2.640e+00, ..., 5.700e-01, 1.780e+00,\n",
       "         6.200e+02],\n",
       "        [1.412e+01, 1.480e+00, 2.320e+00, ..., 1.170e+00, 2.820e+00,\n",
       "         1.280e+03],\n",
       "        ...,\n",
       "        [1.103e+01, 1.510e+00, 2.200e+00, ..., 1.710e+00, 2.870e+00,\n",
       "         4.070e+02],\n",
       "        [1.371e+01, 1.860e+00, 2.360e+00, ..., 1.110e+00, 4.000e+00,\n",
       "         1.035e+03],\n",
       "        [1.245e+01, 3.030e+00, 2.640e+00, ..., 6.700e-01, 1.730e+00,\n",
       "         8.800e+02]]),\n",
       " array([2, 0, 1, 2, 0, 2, 2, 1, 0, 0, 0, 0, 0, 2, 2, 2, 0, 2, 1, 1, 1, 0,\n",
       "        1, 1, 0, 1, 0, 1, 1, 1, 1, 2, 1, 0, 1, 2, 2, 0, 1, 0, 1, 0, 0, 0,\n",
       "        1, 0, 1, 0, 0, 1, 1, 1, 0, 1, 2, 1, 0, 2, 2, 1, 0, 1, 2, 1, 2, 1,\n",
       "        2, 1, 1, 2, 2, 0, 1, 1, 2, 2, 0, 0, 1, 0, 1, 1, 2, 1, 1, 1, 1, 0,\n",
       "        0]),\n",
       " array([1, 2, 0, 1, 2, 2, 1, 1, 1, 1, 2, 1, 2, 2, 2, 0, 2, 0, 1, 0, 2, 0,\n",
       "        1, 1, 0, 0, 1, 1, 1, 2, 2, 1, 0, 1, 2, 2, 1, 1, 2, 2, 0, 2, 2, 2,\n",
       "        0, 2, 2, 2, 0, 0, 0, 1, 0, 1, 2, 2, 0, 0, 1, 1, 1, 2, 0, 1, 1, 2,\n",
       "        1, 0, 0, 1, 0, 0, 0, 0, 0, 1, 0, 0, 0, 1, 1, 1, 1, 1, 0, 0, 1, 0,\n",
       "        2])]"
      ]
     },
     "execution_count": 37,
     "metadata": {},
     "output_type": "execute_result"
    }
   ],
   "source": [
    "train_test_split(wine.data, wine.target, test_size = 0.5, random_state = 100)"
   ]
  },
  {
   "cell_type": "markdown",
   "id": "af56ca36",
   "metadata": {},
   "source": [
    "Step 8. train_test_split returns four values in the following order: The training set The validation set The training labels The validation labels We are storing those values in variables named training_data, validation_data, training_labels, and validation_labels."
   ]
  },
  {
   "cell_type": "code",
   "execution_count": 38,
   "id": "b52ddf2a",
   "metadata": {},
   "outputs": [],
   "source": [
    "training_data, validation_data, training_labels, validation_labels = train_test_split(wine.data, wine.target, test_size = 0.2, random_state = 100)"
   ]
  },
  {
   "cell_type": "markdown",
   "id": "05912ae2",
   "metadata": {},
   "source": [
    "Step 9. Print the length of training_data and training_labels to check that the data we stored in above cell worked correctly. Output should be the same size - one label for every piece of data."
   ]
  },
  {
   "cell_type": "code",
   "execution_count": 39,
   "id": "45c13d17",
   "metadata": {},
   "outputs": [
    {
     "name": "stdout",
     "output_type": "stream",
     "text": [
      "142\n",
      "142\n"
     ]
    }
   ],
   "source": [
    "print(len(training_data))\n",
    "print(len(training_labels))"
   ]
  },
  {
   "cell_type": "markdown",
   "id": "cc164170",
   "metadata": {},
   "source": [
    "Step 10: Set the KNN value to 4, to classify the data to classifier"
   ]
  },
  {
   "cell_type": "code",
   "execution_count": 40,
   "id": "af824525",
   "metadata": {},
   "outputs": [],
   "source": [
    "classifier = KNeighborsClassifier(n_neighbors = 2)"
   ]
  },
  {
   "cell_type": "markdown",
   "id": "236ee770",
   "metadata": {},
   "source": [
    "Step 11: Train the classifier using the fit function. This function takes two parameters: the training set and the training labels."
   ]
  },
  {
   "cell_type": "code",
   "execution_count": 41,
   "id": "79d97074",
   "metadata": {},
   "outputs": [
    {
     "data": {
      "text/plain": [
       "KNeighborsClassifier(n_neighbors=2)"
      ]
     },
     "execution_count": 41,
     "metadata": {},
     "output_type": "execute_result"
    }
   ],
   "source": [
    "classifier.fit(training_data, training_labels)"
   ]
  },
  {
   "cell_type": "markdown",
   "id": "0be26d62",
   "metadata": {},
   "source": [
    "Step 12. Now that the classifier has been trained, let’s find how accurate it is on the validation set. Calling the classifier’s score function. score takes two parameters: the validation set and the validation labels. Printing the result.\n",
    "         It shows that if we have 3 neighbors accuracy is around 94%."
   ]
  },
  {
   "cell_type": "code",
   "execution_count": 42,
   "id": "69be4679",
   "metadata": {},
   "outputs": [
    {
     "name": "stdout",
     "output_type": "stream",
     "text": [
      "0.6111111111111112\n"
     ]
    }
   ],
   "source": [
    "print(classifier.score(validation_data, validation_labels))"
   ]
  },
  {
   "cell_type": "markdown",
   "id": "b619a32c",
   "metadata": {},
   "source": [
    "Step 13. In above cell we have got output for k = 4 but to find a better k which is more accurate, we will use a for loop to get 100 different validation accuracies. We now have the validation accuracy for 100 different ks"
   ]
  },
  {
   "cell_type": "code",
   "execution_count": 43,
   "id": "0645073f",
   "metadata": {},
   "outputs": [
    {
     "name": "stdout",
     "output_type": "stream",
     "text": [
      "0.7777777777777778\n",
      "0.6111111111111112\n",
      "0.6944444444444444\n",
      "0.6388888888888888\n",
      "0.6388888888888888\n",
      "0.6666666666666666\n",
      "0.6944444444444444\n",
      "0.6666666666666666\n",
      "0.6111111111111112\n",
      "0.6111111111111112\n",
      "0.6111111111111112\n",
      "0.6111111111111112\n",
      "0.6388888888888888\n",
      "0.6388888888888888\n",
      "0.6388888888888888\n",
      "0.6388888888888888\n",
      "0.6111111111111112\n",
      "0.6388888888888888\n",
      "0.6111111111111112\n",
      "0.6111111111111112\n",
      "0.6111111111111112\n",
      "0.5833333333333334\n",
      "0.6111111111111112\n",
      "0.6111111111111112\n",
      "0.6388888888888888\n",
      "0.5833333333333334\n",
      "0.5555555555555556\n",
      "0.6111111111111112\n",
      "0.5833333333333334\n",
      "0.6388888888888888\n",
      "0.6111111111111112\n",
      "0.6388888888888888\n",
      "0.6388888888888888\n",
      "0.6388888888888888\n",
      "0.6111111111111112\n",
      "0.6388888888888888\n",
      "0.6388888888888888\n",
      "0.6388888888888888\n",
      "0.6388888888888888\n",
      "0.6388888888888888\n",
      "0.6388888888888888\n",
      "0.6388888888888888\n",
      "0.6388888888888888\n",
      "0.6388888888888888\n",
      "0.6388888888888888\n",
      "0.6388888888888888\n",
      "0.6388888888888888\n",
      "0.6388888888888888\n",
      "0.6388888888888888\n",
      "0.6388888888888888\n",
      "0.6388888888888888\n",
      "0.6111111111111112\n",
      "0.6111111111111112\n",
      "0.6111111111111112\n",
      "0.6111111111111112\n",
      "0.6388888888888888\n",
      "0.6111111111111112\n",
      "0.6388888888888888\n",
      "0.6111111111111112\n",
      "0.6111111111111112\n",
      "0.6111111111111112\n",
      "0.5833333333333334\n",
      "0.6111111111111112\n",
      "0.5833333333333334\n",
      "0.5555555555555556\n",
      "0.5277777777777778\n",
      "0.5555555555555556\n",
      "0.5277777777777778\n",
      "0.5555555555555556\n",
      "0.5555555555555556\n",
      "0.5555555555555556\n",
      "0.5277777777777778\n",
      "0.5277777777777778\n",
      "0.5\n",
      "0.5\n",
      "0.5\n",
      "0.5\n",
      "0.5277777777777778\n",
      "0.5277777777777778\n",
      "0.5277777777777778\n",
      "0.5277777777777778\n",
      "0.5833333333333334\n",
      "0.5833333333333334\n",
      "0.5833333333333334\n",
      "0.5833333333333334\n",
      "0.5833333333333334\n",
      "0.5833333333333334\n",
      "0.5833333333333334\n",
      "0.5833333333333334\n",
      "0.5833333333333334\n",
      "0.5833333333333334\n",
      "0.5833333333333334\n",
      "0.5833333333333334\n",
      "0.5833333333333334\n",
      "0.5833333333333334\n",
      "0.5833333333333334\n",
      "0.5833333333333334\n",
      "0.5555555555555556\n",
      "0.5555555555555556\n",
      "0.5555555555555556\n"
     ]
    }
   ],
   "source": [
    "for k in range(1, 101):\n",
    "  classifier = KNeighborsClassifier(k)\n",
    "  classifier.fit(training_data, training_labels)\n",
    "  print(classifier.score(validation_data, validation_labels))"
   ]
  },
  {
   "cell_type": "markdown",
   "id": "5386679d",
   "metadata": {},
   "source": [
    "Step 14. and Step 15. We have the output of 100 different validation accuracies, now we will make a graph\n",
    "    The x-axis will be the values of k that we tested. This should be a list of numbers between 1 and 100. We are using the range function to make this list. Storing it in a variable named k_list.\n",
    "    The y-axis of our graph will be the validation accuracy. Outside of the for loop, we have created an empty list named accuracies. Inside the for loop, we have appended each accuracy accuracies."
   ]
  },
  {
   "cell_type": "code",
   "execution_count": 44,
   "id": "9f959381",
   "metadata": {},
   "outputs": [],
   "source": [
    "k_list = range(1, 101)\n",
    "accuracies = []\n",
    "for k in range(1, 101):\n",
    "  classifier = KNeighborsClassifier(k)\n",
    "  classifier.fit(training_data, training_labels)\n",
    "  accuracies.append(classifier.score(validation_data, validation_labels))\n"
   ]
  },
  {
   "cell_type": "markdown",
   "id": "782eea0b",
   "metadata": {},
   "source": [
    "Step 16. We are plotting and showing the graph below"
   ]
  },
  {
   "cell_type": "code",
   "execution_count": 45,
   "id": "be9ffc28",
   "metadata": {},
   "outputs": [
    {
     "data": {
      "image/png": "[encoded data removed]",
      "text/plain": [
       "<Figure size 432x288 with 1 Axes>"
      ]
     },
     "metadata": {
      "needs_background": "light"
     },
     "output_type": "display_data"
    }
   ],
   "source": [
    "plt.plot(k_list, accuracies)\n",
    "plt.show()"
   ]
  },
  {
   "cell_type": "markdown",
   "id": "5307b664",
   "metadata": {},
   "source": [
    "Step 17. Adding labels:\n",
    "        Setting the x-axis label to \"k\" using plt.xlabel()\n",
    "        Setting the y-axis label to \"Validation Accuracy\"\n",
    "        Setting the title to \"Breast Cancer Classifier Accuracy\""
   ]
  },
  {
   "cell_type": "code",
   "execution_count": 46,
   "id": "e424d09a",
   "metadata": {},
   "outputs": [
    {
     "data": {
      "image/png": "[encoded data removed]",
      "text/plain": [
       "<Figure size 432x288 with 1 Axes>"
      ]
     },
     "metadata": {
      "needs_background": "light"
     },
     "output_type": "display_data"
    }
   ],
   "source": [
    "plt.xlabel(\"k\")\n",
    "plt.ylabel(\"Validation Accuracy\")\n",
    "plt.title(\"Wine Accuracy Classifier\")\n",
    "\n",
    "plt.plot(k_list, accuracies)\n",
    "plt.show()"
   ]
  },
  {
   "cell_type": "markdown",
   "id": "a60918b6",
   "metadata": {},
   "source": [
    "Step 18: From the graph, we can say that at 0 value of k accuracy is more than 75%, wherease accuracy reduces as k value is reduces and is minimum in between 70 to 80. If neighbors are increasing more i.e, when value of k is ranging from 80 to 100, accuracy has reduced to 20%. This shows overfitting, because we have trained our model with lots of data."
   ]
  },
  {
   "cell_type": "code",
   "execution_count": 47,
   "id": "7af9dda0",
   "metadata": {},
   "outputs": [
    {
     "data": {
      "image/png": "[encoded data removed]",
      "text/plain": [
       "<Figure size 432x288 with 1 Axes>"
      ]
     },
     "metadata": {
      "needs_background": "light"
     },
     "output_type": "display_data"
    }
   ],
   "source": [
    "train_test_split(wine.data, wine.target, test_size = 0.2, random_state = 80)\n",
    "training_data, validation_data, training_labels, validation_labels = train_test_split(wine.data, wine.target, test_size = 0.2, random_state = 80)\n",
    "\n",
    "classifier.fit(training_data, training_labels)\n",
    "\n",
    "k_list = range(1, 101)\n",
    "accuracies = []\n",
    "for k in range(1, 101):\n",
    "  classifier = KNeighborsClassifier(k)\n",
    "  classifier.fit(training_data, training_labels)\n",
    "  accuracies.append(classifier.score(validation_data, validation_labels))\n",
    "\n",
    "plt.xlabel(\"k\")\n",
    "plt.ylabel(\"Validation Accuracy\")\n",
    "plt.title(\"Wine Classifier Accuracy\")\n",
    "\n",
    "plt.plot(k_list, accuracies)\n",
    "plt.show()\n",
    "\n",
    "\n"
   ]
  }
 ],
 "metadata": {
  "kernelspec": {
   "display_name": "Python 3 (ipykernel)",
   "language": "python",
   "name": "python3"
  },
  "language_info": {
   "codemirror_mode": {
    "name": "ipython",
    "version": 3
   },
   "file_extension": ".py",
   "mimetype": "text/x-python",
   "name": "python",
   "nbconvert_exporter": "python",
   "pygments_lexer": "ipython3",
   "version": "3.9.12"
  }
 },
 "nbformat": 4,
 "nbformat_minor": 5
}
